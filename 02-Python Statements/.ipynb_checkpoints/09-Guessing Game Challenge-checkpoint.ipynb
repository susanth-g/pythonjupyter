{
 "cells": [
  {
   "cell_type": "markdown",
   "metadata": {},
   "source": [
    "___\n",
    "\n",
    "<a href='https://www.udemy.com/user/joseportilla/'><img src='../Pierian_Data_Logo.png'/></a>\n",
    "___\n",
    "<center><em>Content Copyright by Pierian Data</em></center>"
   ]
  },
  {
   "cell_type": "markdown",
   "metadata": {},
   "source": [
    "# Guessing Game Challenge\n",
    "\n",
    "Let's use `while` loops to create a guessing game.\n",
    "\n",
    "The Challenge:\n",
    "\n",
    "Write a program that picks a random integer from 1 to 100, and has players guess the number. The rules are:\n",
    "\n",
    "1. If a player's guess is less than 1 or greater than 100, say \"OUT OF BOUNDS\"\n",
    "2. On a player's first turn, if their guess is\n",
    " * within 10 of the number, return \"WARM!\"\n",
    " * further than 10 away from the number, return \"COLD!\"\n",
    "3. On all subsequent turns, if a guess is \n",
    " * closer to the number than the previous guess return \"WARMER!\"\n",
    " * farther from the number than the previous guess, return \"COLDER!\"\n",
    "4. When the player's guess equals the number, tell them they've guessed correctly *and* how many guesses it took!\n",
    "\n",
    "You can try this from scratch, or follow the steps outlined below. A separate Solution notebook has been provided. Good luck!\n"
   ]
  },
  {
   "cell_type": "markdown",
   "metadata": {},
   "source": [
    "#### First, pick a random integer from 1 to 100 using the random module and assign it to a variable\n",
    "\n",
    "Note: `random.randint(a,b)` returns a random integer in range `[a, b]`, including both end points."
   ]
  },
  {
   "cell_type": "code",
   "execution_count": 1,
   "metadata": {},
   "outputs": [
    {
     "data": {
      "text/plain": [
       "99"
      ]
     },
     "execution_count": 1,
     "metadata": {},
     "output_type": "execute_result"
    }
   ],
   "source": [
    "import random\n",
    "\n",
    "actual_num=random.randint(1,100)\n",
    "actual_num"
   ]
  },
  {
   "cell_type": "markdown",
   "metadata": {},
   "source": [
    "#### Next, print an introduction to the game and explain the rules"
   ]
  },
  {
   "cell_type": "code",
   "execution_count": 2,
   "metadata": {},
   "outputs": [
    {
     "name": "stdout",
     "output_type": "stream",
     "text": [
      "\n",
      "Welcome to Gusseing Game..\n",
      "The computer has a number\n",
      "You will be asked to guess that number,\n",
      "If your number near 10 to the computer's then its WARM\n",
      "If your number is far away from 10 to the computer's then in COLD\n",
      "Lets see how many turns it takes for you\n",
      "\n"
     ]
    }
   ],
   "source": [
    "print ('''\n",
    "Welcome to Gusseing Game..\n",
    "The computer has a number\n",
    "You will be asked to guess that number,\n",
    "If your number near 10 to the computer's then its WARM\n",
    "If your number is far away from 10 to the computer's then in COLD\n",
    "Lets see how many turns it takes for you\n",
    "''')"
   ]
  },
  {
   "cell_type": "markdown",
   "metadata": {},
   "source": [
    "#### Create a list to store guesses\n",
    "\n",
    "Hint: zero is a good placeholder value. It's useful because it evaluates to \"False\""
   ]
  },
  {
   "cell_type": "code",
   "execution_count": 3,
   "metadata": {},
   "outputs": [],
   "source": [
    "guess_list=[]"
   ]
  },
  {
   "cell_type": "markdown",
   "metadata": {},
   "source": [
    "#### Write a `while` loop that asks for a valid guess. Test it a few times to make sure it works."
   ]
  },
  {
   "cell_type": "code",
   "execution_count": 4,
   "metadata": {},
   "outputs": [],
   "source": [
    "def ask():\n",
    "    guess_inp = -1\n",
    "    while guess_inp not in range(0,101):\n",
    "        inp=input(\"Enter your Guess between 1 to 100 INCLUSIVE : \")\n",
    "        guess_inp=int(inp)\n",
    "    return guess_inp"
   ]
  },
  {
   "cell_type": "markdown",
   "metadata": {},
   "source": [
    "#### Write a `while` loop that compares the player's guess to our number. If the player guesses correctly, break from the loop. Otherwise, tell the player if they're warmer or colder, and continue asking for guesses.\n",
    "\n",
    "Some hints:\n",
    "* it may help to sketch out all possible combinations on paper first!\n",
    "* you can use the `abs()` function to find the positive difference between two numbers\n",
    "* if you append all new guesses to the list, then the previous guess is given as `guesses[-2]`"
   ]
  },
  {
   "cell_type": "code",
   "execution_count": 5,
   "metadata": {},
   "outputs": [
    {
     "name": "stdout",
     "output_type": "stream",
     "text": [
      "Enter your Guess between 1 to 100 INCLUSIVE : 50\n",
      "COLD\n",
      "Enter your Guess between 1 to 100 INCLUSIVE : 10\n",
      "COLDER\n",
      "Enter your Guess between 1 to 100 INCLUSIVE : 20\n",
      "COLDER\n",
      "Enter your Guess between 1 to 100 INCLUSIVE : 30\n",
      "COLDER\n",
      "Enter your Guess between 1 to 100 INCLUSIVE : 40\n",
      "COLDER\n",
      "Enter your Guess between 1 to 100 INCLUSIVE : 50\n",
      "COLDER\n",
      "Enter your Guess between 1 to 100 INCLUSIVE : 60\n",
      "COLDER\n",
      "Enter your Guess between 1 to 100 INCLUSIVE : 70\n",
      "COLDER\n",
      "Enter your Guess between 1 to 100 INCLUSIVE : 80\n",
      "COLDER\n",
      "Enter your Guess between 1 to 100 INCLUSIVE : 90\n",
      "WARMER\n",
      "Enter your Guess between 1 to 100 INCLUSIVE : 100\n",
      "WARMER\n",
      "Enter your Guess between 1 to 100 INCLUSIVE : 91\n",
      "WARMER\n",
      "Enter your Guess between 1 to 100 INCLUSIVE : 92\n",
      "WARMER\n",
      "Enter your Guess between 1 to 100 INCLUSIVE : 93\n",
      "WARMER\n",
      "Enter your Guess between 1 to 100 INCLUSIVE : 94\n",
      "WARMER\n",
      "Enter your Guess between 1 to 100 INCLUSIVE : 95\n",
      "WARMER\n",
      "Enter your Guess between 1 to 100 INCLUSIVE : 96\n",
      "WARMER\n",
      "Enter your Guess between 1 to 100 INCLUSIVE : 97\n",
      "WARMER\n",
      "Enter your Guess between 1 to 100 INCLUSIVE : 98\n",
      "WARMER\n",
      "Enter your Guess between 1 to 100 INCLUSIVE : 99\n",
      "WARMER\n",
      "THE COMPUTER NUMBER IS 99 , you took 20 tries to guess\n"
     ]
    }
   ],
   "source": [
    "guess_inp=-1\n",
    "while guess_inp!=actual_num:\n",
    "    guess_inp=ask()\n",
    "    guess_list.append(guess_inp)\n",
    "    if abs(guess_inp-actual_num)>10:\n",
    "        if(len(guess_list)==1):\n",
    "            print ('COLD')\n",
    "        else:\n",
    "            print ('COLDER')\n",
    "    else:\n",
    "        if(len(guess_list)==1):\n",
    "            print ('WARM')\n",
    "        else:\n",
    "            print ('WARMER')\n",
    "print ('THE COMPUTER NUMBER IS {} , you took {} tries to guess'.format(actual_num,len(guess_list)))"
   ]
  },
  {
   "cell_type": "markdown",
   "metadata": {},
   "source": [
    "That's it! You've just programmed your first game!\n",
    "\n",
    "In the next section we'll learn how to turn some of these repetitive actions into *functions* that can be called whenever we need them."
   ]
  },
  {
   "cell_type": "markdown",
   "metadata": {},
   "source": [
    "### Good Job!"
   ]
  }
 ],
 "metadata": {
  "kernelspec": {
   "display_name": "Python 3",
   "language": "python",
   "name": "python3"
  },
  "language_info": {
   "codemirror_mode": {
    "name": "ipython",
    "version": 3
   },
   "file_extension": ".py",
   "mimetype": "text/x-python",
   "name": "python",
   "nbconvert_exporter": "python",
   "pygments_lexer": "ipython3",
   "version": "3.8.8"
  }
 },
 "nbformat": 4,
 "nbformat_minor": 2
}
